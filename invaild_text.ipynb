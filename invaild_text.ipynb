{
 "cells": [
  {
   "cell_type": "markdown",
   "id": "5b51a9d9-e5cb-4b44-99df-8e910e79d588",
   "metadata": {},
   "source": [
    "\n",
    "در این سوال، می‌خواهیم که یک برنامه‌ی غلط‌یاب تایپی ساده برای واژه‌های عادی انگلیسی طراحی کنیم. به طور معمول، در زبان انگلیسی هیچ‌گاه پنج حرف بی‌صدا پشت سرهم نمی‌آیند، مگر در حالاتی که مخفف عبارتی باشند که در این صورت، با حروف بزرگ نمایش داده می‌شوند. به عنوان نمونه می‌توان به واژه‌ی HTTPS اشاره کرد.\r\n",
    "\r\n",
    "حال می‌خواهیم برنامه‌ای بنویسید که کلمه‌های نادرست یک متن را به ما گزارش کند."
   ]
  },
  {
   "cell_type": "code",
   "execution_count": 2,
   "id": "5b22f398-45f2-4d24-83c3-59ca49207c50",
   "metadata": {},
   "outputs": [
    {
     "name": "stdin",
     "output_type": "stream",
     "text": [
      " HTTPS is short form of Hyper text transfrd protocol secure.It doesn 't  mean you can trust all https sites !!!!! It only means data has been encrypted before transfer.\n"
     ]
    },
    {
     "name": "stdout",
     "output_type": "stream",
     "text": [
      "transfrd https\n"
     ]
    }
   ],
   "source": [
    "import string\n",
    "import re\n",
    "def invalid_word(word):\n",
    "    vowels = {\"a\",\"e\",\"i\",\"o\",\"u\",\"y\"}\n",
    "    consonant_count = 0\n",
    "    for i in word:\n",
    "        if i.lower() in vowels:\n",
    "            consonant_count = 0\n",
    "        elif i.isalpha():\n",
    "            consonant_count += 1\n",
    "            if consonant_count >= 5:\n",
    "                return True\n",
    "    return False\n",
    "text=input().strip()\n",
    "words=re.findall(r'\\b\\w+\\b',text)\n",
    "invalid_words=[word for word in words if not word.isupper() and invalid_word(word)]\n",
    "if invalid_words:\n",
    "    print(\" \".join(invalid_words))\n"
   ]
  },
  {
   "cell_type": "code",
   "execution_count": null,
   "id": "7e10f44c-7f84-4dce-8213-b8d415e9b6c1",
   "metadata": {},
   "outputs": [],
   "source": []
  }
 ],
 "metadata": {
  "kernelspec": {
   "display_name": "Python 3 (ipykernel)",
   "language": "python",
   "name": "python3"
  },
  "language_info": {
   "codemirror_mode": {
    "name": "ipython",
    "version": 3
   },
   "file_extension": ".py",
   "mimetype": "text/x-python",
   "name": "python",
   "nbconvert_exporter": "python",
   "pygments_lexer": "ipython3",
   "version": "3.12.4"
  }
 },
 "nbformat": 4,
 "nbformat_minor": 5
}
