{
 "cells": [
  {
   "cell_type": "markdown",
   "id": "f75ad3fd-e567-44ed-b1c9-7e26eed69c47",
   "metadata": {},
   "source": [
    "برنامه‌ای بنویسید که به ازای دریافت عددn\n",
    "از ورودی، آن را به عوامل اول تجزیه کند و در قالب فرمت زیر نمایش دهد\n",
    "\n",
    "\n",
    "100=2^2 * 5^2"
   ]
  },
  {
   "cell_type": "code",
   "execution_count": 7,
   "id": "d489a874-9437-4b70-8087-f5f50e4e5a24",
   "metadata": {},
   "outputs": [
    {
     "name": "stdin",
     "output_type": "stream",
     "text": [
      " 1010\n"
     ]
    },
    {
     "name": "stdout",
     "output_type": "stream",
     "text": [
      "2*5*101\n"
     ]
    }
   ],
   "source": [
    "def first_factor(n):\n",
    "    factor=[]\n",
    "    count=0\n",
    "    while n % 2 == 0:\n",
    "        n //= 2\n",
    "        count+=1\n",
    "    if count > 0:\n",
    "        factor.append(f\"2^{count}\" if count > 1 else \"2\")\n",
    "\n",
    "    for i in range(3,int(n**0.5) + 1,2):\n",
    "        count = 0\n",
    "        while n % i ==0:\n",
    "            n //=i\n",
    "            count+= 1\n",
    "        if count > 0:\n",
    "            factor.append(f\"{i}^{count}\" if count > 1 else str(i))\n",
    "    if n > 1:\n",
    "        factor.append(str(n))\n",
    "    return \"*\".join(factor)\n",
    "n = int(input())\n",
    "print(first_factor(n))\n"
   ]
  },
  {
   "cell_type": "code",
   "execution_count": null,
   "id": "b39123ba-0bf7-4a23-bff3-3f3d9e4ea7bb",
   "metadata": {},
   "outputs": [],
   "source": []
  }
 ],
 "metadata": {
  "kernelspec": {
   "display_name": "Python 3 (ipykernel)",
   "language": "python",
   "name": "python3"
  },
  "language_info": {
   "codemirror_mode": {
    "name": "ipython",
    "version": 3
   },
   "file_extension": ".py",
   "mimetype": "text/x-python",
   "name": "python",
   "nbconvert_exporter": "python",
   "pygments_lexer": "ipython3",
   "version": "3.12.4"
  }
 },
 "nbformat": 4,
 "nbformat_minor": 5
}
