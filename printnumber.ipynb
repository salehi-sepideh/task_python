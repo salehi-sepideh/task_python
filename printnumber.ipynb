{
 "cells": [
  {
   "cell_type": "markdown",
   "id": "baf5349b-23dc-4f75-a1b7-c7eeca505332",
   "metadata": {},
   "source": []
  },
  {
   "cell_type": "code",
   "execution_count": 7,
   "id": "6a85d345-b314-4ca9-b04d-df8c69a620fc",
   "metadata": {},
   "outputs": [
    {
     "name": "stdin",
     "output_type": "stream",
     "text": [
      "enter number : 25436\n"
     ]
    },
    {
     "name": "stdout",
     "output_type": "stream",
     "text": [
      "2 : 22\n",
      "5 : 55555\n",
      "4 : 4444\n",
      "3 : 333\n",
      "6 : 666666\n"
     ]
    }
   ],
   "source": [
    "n=input('enter number :')\n",
    "for i in n :\n",
    "    print(f'{i} : {''.join([i] * int(i))}')\n",
    "    "
   ]
  },
  {
   "cell_type": "code",
   "execution_count": 1,
   "id": "d1edb5a0-b2a3-4ff9-bf7d-44a6428af210",
   "metadata": {},
   "outputs": [
    {
     "name": "stdin",
     "output_type": "stream",
     "text": [
      " 25436\n"
     ]
    },
    {
     "name": "stdout",
     "output_type": "stream",
     "text": [
      "2: 22\n",
      "5: 55555\n",
      "4: 4444\n",
      "3: 333\n",
      "6: 666666\n"
     ]
    }
   ],
   "source": [
    "n = input().strip()\n",
    "if not n.isdigit():\n",
    "    print(\"invalid input\")\n",
    "    exit()\n",
    "if len(n) >= 100: \n",
    "    print(\"invalid input\")\n",
    "    exit()\n",
    "for i in n:\n",
    "    d = int(i)\n",
    "    if d == 0:\n",
    "        print(f\"{d}:\")\n",
    "    else:\n",
    "        print(f\"{d}: {''.join([i] * d)}\") "
   ]
  },
  {
   "cell_type": "code",
   "execution_count": null,
   "id": "6d4ab3c0-353d-4a57-b2dd-2d8b3e24d4a6",
   "metadata": {},
   "outputs": [],
   "source": []
  }
 ],
 "metadata": {
  "kernelspec": {
   "display_name": "Python 3 (ipykernel)",
   "language": "python",
   "name": "python3"
  },
  "language_info": {
   "codemirror_mode": {
    "name": "ipython",
    "version": 3
   },
   "file_extension": ".py",
   "mimetype": "text/x-python",
   "name": "python",
   "nbconvert_exporter": "python",
   "pygments_lexer": "ipython3",
   "version": "3.12.4"
  }
 },
 "nbformat": 4,
 "nbformat_minor": 5
}
