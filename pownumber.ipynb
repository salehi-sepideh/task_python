{
 "cells": [
  {
   "cell_type": "markdown",
   "id": "0f761f6b-290c-4daa-8382-c9de1cdcdcf6",
   "metadata": {},
   "source": [
    "برنامه‌ای بنویسید که عدد \r\n",
    "n\r\n",
    "n را از ورودی بخواند و اولین توان عدد دو را که ا\n",
    "\r\n",
    "n بزرگتر است چاپ کند."
   ]
  },
  {
   "cell_type": "code",
   "execution_count": 2,
   "id": "9b136c0e-36da-4b75-af16-f079c05c29cf",
   "metadata": {},
   "outputs": [
    {
     "name": "stdin",
     "output_type": "stream",
     "text": [
      " 10\n"
     ]
    },
    {
     "name": "stdout",
     "output_type": "stream",
     "text": [
      "16\n"
     ]
    }
   ],
   "source": [
    "n=int(input())\n",
    "pow_2 = 1\n",
    "while pow_2<=n:\n",
    "    pow_2 *= 2\n",
    "print(pow_2)\n"
   ]
  },
  {
   "cell_type": "code",
   "execution_count": null,
   "id": "e2f16cfc-40d9-4b52-9bfd-34130c668062",
   "metadata": {},
   "outputs": [],
   "source": []
  }
 ],
 "metadata": {
  "kernelspec": {
   "display_name": "Python 3 (ipykernel)",
   "language": "python",
   "name": "python3"
  },
  "language_info": {
   "codemirror_mode": {
    "name": "ipython",
    "version": 3
   },
   "file_extension": ".py",
   "mimetype": "text/x-python",
   "name": "python",
   "nbconvert_exporter": "python",
   "pygments_lexer": "ipython3",
   "version": "3.12.4"
  }
 },
 "nbformat": 4,
 "nbformat_minor": 5
}
