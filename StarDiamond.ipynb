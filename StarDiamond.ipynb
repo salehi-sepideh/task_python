{
 "cells": [
  {
   "cell_type": "markdown",
   "id": "a1dafa3d-e967-485b-bfbc-c735d11bc53d",
   "metadata": {},
   "source": [
    "] * را در کنار هم با استفاده از کارکتر nعدد ورودی دریافت کند و دو لوزی به قطرn برنامه ای بنویسید که "
   ]
  },
  {
   "cell_type": "code",
   "execution_count": 3,
   "id": "d3ec04b2-9e1d-414d-941f-009d34d5df41",
   "metadata": {},
   "outputs": [
    {
     "name": "stdin",
     "output_type": "stream",
     "text": [
      "enter a odd number between 1 and 19:  7\n"
     ]
    },
    {
     "name": "stdout",
     "output_type": "stream",
     "text": [
      "   *      *\n",
      "  ***    ***\n",
      " *****  *****\n",
      "**************\n",
      " *****  *****\n",
      "  ***    ***\n",
      "   *      *\n"
     ]
    }
   ],
   "source": [
    "n=int(input('enter a odd number between 1 and 19: '))\n",
    "if n<1 or n>19 or n%2==0 :\n",
    "    print('please enter a odd number between 1 and 19: ')\n",
    "else:\n",
    "    m=n//2\n",
    "    for i in range(m+1):\n",
    "        star=(m-i)*' ' + (2*i+1)*'*' + (n-(2*i+1))*' ' + (2*i+1)*'*'\n",
    "        print(star)\n",
    "    for i in range(1,m+1):\n",
    "        star=i*' ' +(n-2*i)*'*' + (n-(n-2*i))*' ' + (n-2*i)*'*'\n",
    "        print(star)"
   ]
  },
  {
   "cell_type": "code",
   "execution_count": null,
   "id": "620430aa-01c7-40e0-973d-07b489d14e8d",
   "metadata": {},
   "outputs": [],
   "source": []
  }
 ],
 "metadata": {
  "kernelspec": {
   "display_name": "Python 3 (ipykernel)",
   "language": "python",
   "name": "python3"
  },
  "language_info": {
   "codemirror_mode": {
    "name": "ipython",
    "version": 3
   },
   "file_extension": ".py",
   "mimetype": "text/x-python",
   "name": "python",
   "nbconvert_exporter": "python",
   "pygments_lexer": "ipython3",
   "version": "3.12.4"
  }
 },
 "nbformat": 4,
 "nbformat_minor": 5
}
